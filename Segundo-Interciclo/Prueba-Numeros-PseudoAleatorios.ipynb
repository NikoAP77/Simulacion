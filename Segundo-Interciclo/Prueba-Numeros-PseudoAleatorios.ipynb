{
 "cells": [
  {
   "cell_type": "markdown",
   "metadata": {},
   "source": [
    "### Prueba Numero PseudoAleatorios\n",
    "\n",
    "### Nicolas Añazco"
   ]
  },
  {
   "cell_type": "code",
   "execution_count": 29,
   "metadata": {},
   "outputs": [],
   "source": [
    "#Importacion de las librerias a utilizar\n",
    "import numpy as np\n",
    "import math as mt\n",
    "import matplotlib.pyplot as plt"
   ]
  },
  {
   "cell_type": "code",
   "execution_count": 30,
   "metadata": {},
   "outputs": [],
   "source": [
    "\n",
    "def congruencias_lin(a,b,c,m,iteraciones): \n",
    "    lista=[] \n",
    "    for i in range(iteraciones):  \n",
    "        a = (a*b+c) % m\n",
    "        lista.append(round(a/m,2)) \n",
    "    return lista\n",
    "\n",
    "def getPosicion(digitos): \n",
    "    valor1 = 0 \n",
    "    valor2 = 0 \n",
    "    if digitos%2 !=0:\n",
    "        valor1 = int(digitos/2)\n",
    "        valor2 = int(digitos/2)+1\n",
    "    else:\n",
    "        valor1 = int(digitos/2)\n",
    "        valor2 = valor1\n",
    "    return valor1,valor2\n",
    "\n",
    "\n",
    "def cuadradosMedios(iteraciones,v,digitos): \n",
    "    sm = int(v) \n",
    "    lista=[]  \n",
    "    m = getPosicion(digitos) \n",
    "    for i in range(iteraciones): \n",
    "        n = sm**2 \n",
    "        long = len(str(n)) \n",
    "        u_i = str(n)[int(long/2)-m[0]:int(long/2)+m[1]] \n",
    "        #print(u_i)\n",
    "        lista.append(round(int(u_i)/10**digitos,2))   \n",
    "        sm = int(u_i) \n",
    "    return lista"
   ]
  },
  {
   "cell_type": "code",
   "execution_count": 32,
   "metadata": {},
   "outputs": [],
   "source": [
    "\n",
    "def get_list(n_gr,aum,lista): \n",
    "    var = 0\n",
    "    g = []    \n",
    "    ran = n_gr+1 \n",
    "    num1 = 0\n",
    "    num2 = 1 \n",
    "    rgs = {}\n",
    "    for i in range(ran): \n",
    "        g.append(round(var,2)) \n",
    "        var = var+aum   \n",
    "        \n",
    "    ran2 = len(g)-1\n",
    "    for i in range(ran2):\n",
    "        f = g[num1] \n",
    "        s = g[num2]  \n",
    "        rgs.update({str(f)+\",\"+str(s):[]}) \n",
    "        for i in lista: \n",
    "            if i!= 0: \n",
    "                if i >f and i <=s:\n",
    "                    rgs[str(f)+\",\"+str(s)].append(i) \n",
    "            else: \n",
    "                 if i >=f and i <=s:\n",
    "                    rgs[str(f)+\",\"+str(s)].append(i)\n",
    "        num1=num2\n",
    "        num2=num1+1  \n",
    "    return rgs\n",
    "\n",
    "\n",
    "def metodo_chi(lista,v):  \n",
    "    n_gr = int(mt.sqrt(len(lista))) \n",
    "    aum = 1/n_gr \n",
    "    sumatoria = 0\n",
    "    band = get_list(n_gr,aum,lista) \n",
    "    print(\" Intervalo: \", \"      Ei: \", \"       Oi: \", \" (Oi-Ei)^2/Ei:\")\n",
    "    for i, itr in enumerate(band.items()): \n",
    "        operacion = ((len(itr[1])-n_gr)**2)/n_gr \n",
    "        sumatoria+= operacion  \n",
    "        txt = itr[0].split(',')\n",
    "        print(i, \"            \", str(n_gr)+\"(\"+txt[0]+\"-\"+txt[1]+\")     \", len(itr[1]),\"     \", operacion)\n",
    "      \n",
    "    plt.figure(figsize=(8,8),facecolor='white',edgecolor='yellow')\n",
    "    plt.hist(lista,color='black')\n",
    "    plt.ylabel('Frecuencia') \n",
    "    plt.xlabel('Valores')\n",
    "    plt.title('Histograma') \n",
    "    plt.show()    \n",
    "    print(\"-------------------\")\n",
    "    print(\"Suma: \", sumatoria)\n",
    "    if sumatoria < v: \n",
    "        return True \n",
    "    else: \n",
    "        return False"
   ]
  },
  {
   "cell_type": "markdown",
   "metadata": {},
   "source": [
    "### Ejecucion del Algoritmo"
   ]
  },
  {
   "cell_type": "code",
   "execution_count": 33,
   "metadata": {},
   "outputs": [
    {
     "name": "stdout",
     "output_type": "stream",
     "text": [
      "Parte 1\n",
      " Intervalo:        Ei:         Oi:   (Oi-Ei)^2/Ei:\n",
      "0              10(0-0.1)      11       0.1\n",
      "1              10(0.1-0.2)      18       6.4\n",
      "2              10(0.2-0.3)      12       0.4\n",
      "3              10(0.3-0.4)      7       0.9\n",
      "4              10(0.4-0.5)      13       0.9\n",
      "5              10(0.5-0.6)      9       0.1\n",
      "6              10(0.6-0.7)      7       0.9\n",
      "7              10(0.7-0.8)      5       2.5\n",
      "8              10(0.8-0.9)      8       0.4\n",
      "9              10(0.9-1.0)      10       0.0\n"
     ]
    },
    {
     "data": {
      "image/png": "[encoded data removed]",
      "text/plain": [
       "<Figure size 576x576 with 1 Axes>"
      ]
     },
     "metadata": {},
     "output_type": "display_data"
    },
    {
     "name": "stdout",
     "output_type": "stream",
     "text": [
      "-------------------\n",
      "Suma:  12.600000000000001\n",
      "\n",
      "Parte 2\n",
      " Intervalo:        Ei:         Oi:   (Oi-Ei)^2/Ei:\n",
      "0              10(0-0.1)      11       0.1\n",
      "1              10(0.1-0.2)      11       0.1\n",
      "2              10(0.2-0.3)      0       10.0\n",
      "3              10(0.3-0.4)      22       14.4\n",
      "4              10(0.4-0.5)      0       10.0\n",
      "5              10(0.5-0.6)      0       10.0\n",
      "6              10(0.6-0.7)      11       0.1\n",
      "7              10(0.7-0.8)      11       0.1\n",
      "8              10(0.8-0.9)      23       16.9\n",
      "9              10(0.9-1.0)      11       0.1\n"
     ]
    },
    {
     "data": {
      "image/png": "[encoded data removed]",
      "text/plain": [
       "<Figure size 576x576 with 1 Axes>"
      ]
     },
     "metadata": {},
     "output_type": "display_data"
    },
    {
     "name": "stdout",
     "output_type": "stream",
     "text": [
      "-------------------\n",
      "Suma:  61.800000000000004\n"
     ]
    }
   ],
   "source": [
    "\n",
    "if __name__ == \"__main__\":\n",
    "    iteraciones = 100\n",
    "    v_obtenido= 16.9 \n",
    "    D = 7  \n",
    "    Xo = 74731897457  \n",
    "    b = 37747318974  \n",
    "    M = 19  \n",
    "    \n",
    "    print(\"Parte 1\")\n",
    "    lista = cuadradosMedios(iteraciones, Xo, 7)\n",
    "    res=metodo_chi(lista,v_obtenido)\n",
    "    print(\"\")\n",
    "    print(\"Parte 2\")\n",
    "    lista2 = congruencias_lin(D,Xo,b,M,iteraciones)\n",
    "    res2 = metodo_chi(lista2,v_obtenido)"
   ]
  }
 ],
 "metadata": {
  "kernelspec": {
   "display_name": "Python 3",
   "language": "python",
   "name": "python3"
  },
  "language_info": {
   "codemirror_mode": {
    "name": "ipython",
    "version": 3
   },
   "file_extension": ".py",
   "mimetype": "text/x-python",
   "name": "python",
   "nbconvert_exporter": "python",
   "pygments_lexer": "ipython3",
   "version": "3.8.3"
  }
 },
 "nbformat": 4,
 "nbformat_minor": 4
}
