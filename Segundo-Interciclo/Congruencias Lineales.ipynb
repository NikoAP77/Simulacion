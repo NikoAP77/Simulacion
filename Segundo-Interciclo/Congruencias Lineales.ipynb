{
 "cells": [
  {
   "cell_type": "markdown",
   "metadata": {},
   "source": [
    "### Congruencias Lineales\n",
    "\n",
    "### Nicolas Añazco"
   ]
  },
  {
   "cell_type": "code",
   "execution_count": 3,
   "metadata": {},
   "outputs": [
    {
     "name": "stdout",
     "output_type": "stream",
     "text": [
      "Ingrese el valor de la semilla: (Xo)-> 4\n",
      "Ingrese el valor del multiplicador: (a)-> 4\n",
      "Ingrese el valor de la constante aditiva: (b)-> 4\n",
      "Ingrese el valor del modulo: (m)-> 6\n",
      "\n",
      "Congruencias Lineales\n",
      "  n    Xo       Un    Xn+1\n",
      "  0     4    0.6667     2\n",
      "  1     2    0.3333     0\n",
      "  2     0    0.0     4\n"
     ]
    }
   ],
   "source": [
    "def congruencias_lin(x, a, c, mod):\n",
    " \n",
    "    periodo = 0\n",
    "    band = 0\n",
    "    cont = 0\n",
    "    xant = 0\n",
    "    print(\"\")\n",
    "    print(\"Congruencias Lineales\")\n",
    "    print(\"  n  \", \" Xo \", \"     Un \", \"  Xn+1\")\n",
    "    while(band != x):\n",
    "        if (periodo == 0):\n",
    "            band = x\n",
    "        xant=x\n",
    "        x = (a * x + c) % mod\n",
    "        print(\" \", cont,\"   \", xant,\"  \", round(xant/mod,4),\"   \", x)\n",
    "        periodo = periodo + 1\n",
    "        cont=cont+1\n",
    "\n",
    "def main():\n",
    "    x = int(input(\"Ingrese el valor de la semilla: (Xo)-> \"))\n",
    "    a = int(input(\"Ingrese el valor del multiplicador: (a)-> \"))\n",
    "    c = int(input(\"Ingrese el valor de la constante aditiva: (b)-> \"))\n",
    "    m = int(input(\"Ingrese el valor del modulo: (m)-> \"))\n",
    "    congruencias_lin(x,a,c,m)\n",
    "\n",
    "if __name__ == \"__main__\":\n",
    "    main()"
   ]
  },
  {
   "cell_type": "code",
   "execution_count": null,
   "metadata": {},
   "outputs": [],
   "source": []
  }
 ],
 "metadata": {
  "kernelspec": {
   "display_name": "Python 3",
   "language": "python",
   "name": "python3"
  },
  "language_info": {
   "codemirror_mode": {
    "name": "ipython",
    "version": 3
   },
   "file_extension": ".py",
   "mimetype": "text/x-python",
   "name": "python",
   "nbconvert_exporter": "python",
   "pygments_lexer": "ipython3",
   "version": "3.8.3"
  }
 },
 "nbformat": 4,
 "nbformat_minor": 4
}
