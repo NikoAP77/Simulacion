{
 "cells": [
  {
   "cell_type": "markdown",
   "metadata": {},
   "source": [
    "## Examen de Simulacion\n",
    "## Nicolas Augusto Añazco Pereira\n",
    "## Decimo Ciclo\n",
    "\n",
    "## Introducción:\n",
    "\n",
    "El golpe económico de la crisis sanitaria del corona virus no va a ser cosa de semanas, sino de meses. Dentro de una de las etapas importantes que están a la vuelta de la esquina son las elecciones presidenciales y asambleístas del Ecuador. Para ello se plantea realizar un sistema de regresión que permita identificar cual es la tendencia de los votos en base al manejo de las redes sociales (Twitter y/o Facebook).\n",
    "\n",
    "Las regresiones lineales pueden aprenden por sí mismos y en este caso obtener automáticamente esa “recta” que buscamos con la tendencia de predicción. Para hacerlo se mide el error con respecto a los puntos de entrada y el valor “Y” de salida real.\n",
    "\n",
    "\n",
    "## Enunciado:\n",
    "\n",
    "•\tDiseñe y desarrolle un modelo y/o script que permita simular el siguiente caso real:\n",
    "\n",
    "Obtener datos de tendencia de twitter o facebook, para ello se puede obtener a través del API.\n",
    "\n",
    "•\tTitle: Titulo del Post/Twitter\n",
    "\n",
    "•\tWord count: la cantidad de palabras del artículo,\n",
    "\n",
    "•\t# of Links: los enlaces externos que contiene,\n",
    "\n",
    "•\t# of comments: cantidad de comentarios,\n",
    "\n",
    "•\t# Shares: compartidos.\n",
    "\n",
    "•\tHashTag\n",
    "\n",
    "•\tEtc.\n",
    "\n",
    "En base a ello, se pretende proponer y generar una predicción de cuántas veces será compartido un post/twitter  utilizando regresión.\n",
    "\n",
    "•\tPosteriormente se debe seguir un procesos de votación de eventos discretos que se describe a continuación:\n",
    "\n",
    "◦\tTomar los resultados de la regresión para la selección del candidato.\n",
    "\n",
    "◦\tSe tiene una tendencia del 90% de personas que realizan el proceso de elección dentro del Ecuador.\n",
    "\n",
    "◦\tDentro del procesos se tiene que alrededor del 5% - 10% votan nulo.\n",
    "\n",
    "◦\tSolo se va a tener en cuanta las elecciones de los asambleístas por el Azuay.\n",
    "\n",
    "◦\tLas personas solo tiene un recinto electoral para realizar el proceso.\n",
    "\n",
    "◦\tLas personas solo pueden realizar un proceso de elección por asambleísta del Azuay.\n",
    "\n",
    "◦\tLa persona se acerca a la mesa electoral y hacen fila en caso de ser necesario.\n",
    "\n",
    "◦\tRealiza el voto en un tiempo aleatorio de un partido especifico.\n",
    "\n",
    "◦\tLa persona recibe su certificado votación.\n",
    "\n",
    "◦\tLa persona sale del recinto electoral.\n",
    "\n",
    "◦\tFinalmente generar una grafica de las personas que votaron y los asambleístas electos.\n",
    "\n",
    "•\tEl proceso de simulación desarrollado deberá considerar los siguientes aspectos:\n",
    "\n",
    "◦\tSe debe establecer un modelo basado en modelos matemáticos y probabilísticos para la predicción del numero de veces que se compartirá o la tendencia electoral basada en redes sociales.\n",
    "\n",
    "◦\tEl programa deberá generar gráficas que indiquen la ecuación matemática y probabilística de tendencias de votaciones.\n",
    "\n",
    "◦\tDeben calcularse las siguientes métricas del sistema de simulación de eventos discretos :\n",
    "\n",
    "▪\tTotal de de personas que realizaron el proceso de votación.\n",
    "\n",
    "▪\tAsambleístas ganadores.\n",
    "\n",
    "▪\tEl tiempo promedio de espera.\n"
   ]
  },
  {
   "cell_type": "code",
   "execution_count": 4,
   "metadata": {},
   "outputs": [],
   "source": [
    "# DESARROLLO\n",
    "#Importacion de las librerias que se va a utilizar\n",
    "import numpy as np\n",
    "import pandas as pd\n",
    "import seaborn as sb\n",
    "import matplotlib.pyplot as plt\n",
    "%matplotlib inline\n",
    "from mpl_toolkits.mplot3d import Axes3D\n",
    "from matplotlib import cm\n",
    "plt.rcParams['figure.figsize'] = (16, 9)\n",
    "plt.style.use('ggplot')\n",
    "from sklearn import linear_model\n",
    "from sklearn.metrics import mean_squared_error, r2_score\n",
    "from facebook_scraper import get_posts\n",
    "from sklearn.preprocessing import PolynomialFeatures\n",
    "from sklearn.linear_model import LinearRegression\n"
   ]
  },
  {
   "cell_type": "code",
   "execution_count": 3,
   "metadata": {},
   "outputs": [
    {
     "name": "stdout",
     "output_type": "stream",
     "text": [
      "5\n"
     ]
    }
   ],
   "source": [
    "#Sacar informacion de los candidatos respectivos hacer el analisis \n",
    "\n",
    "publicaciones = []\n",
    "candidatos = ['ecuarauz2021','yakuperezoficial','LassoGuillermo', 'AlvaroNoboaPonton' , 'LucioGutierrezPresidente']\n",
    "print(len(candidatos))"
   ]
  },
  {
   "cell_type": "code",
   "execution_count": null,
   "metadata": {},
   "outputs": [],
   "source": [
    "for i in range(len(candidatos)):\n",
    "    for publicaciones in get_publicaciones(candidatos[i], pages=10):\n",
    "        try:\n",
    "            post['Word count'] = len(publicaciones['text'])\n",
    "            post['candidato']=candidatos[i]\n",
    "            publicaciones.append(post)\n",
    "        except:\n",
    "            post['Word count'] = 0\n",
    "fb_posts = pd.DataFrame(publicaciones)\n",
    "\n",
    "fb_posts"
   ]
  },
  {
   "cell_type": "code",
   "execution_count": null,
   "metadata": {},
   "outputs": [],
   "source": [
    "fb_posts"
   ]
  },
  {
   "cell_type": "code",
   "execution_count": null,
   "metadata": {},
   "outputs": [],
   "source": []
  }
 ],
 "metadata": {
  "kernelspec": {
   "display_name": "Python 3",
   "language": "python",
   "name": "python3"
  },
  "language_info": {
   "codemirror_mode": {
    "name": "ipython",
    "version": 3
   },
   "file_extension": ".py",
   "mimetype": "text/x-python",
   "name": "python",
   "nbconvert_exporter": "python",
   "pygments_lexer": "ipython3",
   "version": "3.8.3"
  }
 },
 "nbformat": 4,
 "nbformat_minor": 4
}
