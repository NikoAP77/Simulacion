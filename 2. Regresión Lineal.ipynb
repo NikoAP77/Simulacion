{
 "cells": [
  {
   "cell_type": "markdown",
   "metadata": {},
   "source": [
    "## Regresion Lineal con puntos aleatorios"
   ]
  },
  {
   "cell_type": "code",
   "execution_count": 44,
   "metadata": {},
   "outputs": [
    {
     "name": "stdout",
     "output_type": "stream",
     "text": [
      "[7 2 9 8 1 4 6]\n",
      "[6 5 4 7 9 8 1]\n",
      "Promedios:  -0.36855670103092786 7.662371134020619\n",
      "Predicción: 0.17336713239283802\n"
     ]
    },
    {
     "data": {
      "image/png": "[encoded data removed]",
      "text/plain": [
       "<Figure size 432x288 with 1 Axes>"
      ]
     },
     "metadata": {
      "needs_background": "light"
     },
     "output_type": "display_data"
    }
   ],
   "source": [
    "import numpy as np\n",
    "import random\n",
    "import matplotlib.pyplot as plt\n",
    "\n",
    "#Generacion de coordenadas aleatorias para X y Y, que seran los puntos.\n",
    "#Eje X\n",
    "x = random.sample(range(1,10), 7)\n",
    "#Eje X\n",
    "y = random.sample(range(1,10), 7)\n",
    "n = len(x)\n",
    "\n",
    "#Guardar en arreglos\n",
    "x = np.array(x)\n",
    "y = np.array(y)\n",
    "\n",
    "print(x)\n",
    "print(y)\n",
    "\n",
    "#Sumatoria de los arreglos \n",
    "sumaX = sum(x)\n",
    "sumaY = sum(y)\n",
    "sumaX2 = sum(x*x)\n",
    "sumaY2 = sum(y*y)\n",
    "sumaXY = sum(x*y)\n",
    "\n",
    "#Sacamos los Promedios de ambos ejes\n",
    "promedioX = sumaX/n\n",
    "promedioY = sumaY/n\n",
    "\n",
    "\n",
    "m = (sumaX*sumaY - n*sumaXY)/(sumaX**2 - n*sumaX2)\n",
    "b = promedioY - m*promedioX\n",
    "print ('Promedios: ',m,b);\n",
    "\n",
    "#Calculo de operaciones [Predecir]\n",
    "resulX = np.sqrt(sumaX2/n - promedioX**2)\n",
    "resulY = np.sqrt(sumaY2/n - promedioY**2)\n",
    "resulXY = sumaXY/n - promedioX*promedioY\n",
    "prediccion = (resulXY/(resulX*resulY))**2\n",
    "print ('Predicción:', prediccion);\n",
    "\n",
    "#Grafica\n",
    "plt.title('Regresión Lineal')\n",
    "plt.plot(x,y,'x',color='black')\n",
    "plt.plot(x, m*x + b,color='blue')\n",
    "plt.xlabel('X')\n",
    "plt.ylabel('Y')\n",
    "plt.show()"
   ]
  }
 ],
 "metadata": {
  "kernelspec": {
   "display_name": "Python 3",
   "language": "python",
   "name": "python3"
  },
  "language_info": {
   "codemirror_mode": {
    "name": "ipython",
    "version": 3
   },
   "file_extension": ".py",
   "mimetype": "text/x-python",
   "name": "python",
   "nbconvert_exporter": "python",
   "pygments_lexer": "ipython3",
   "version": "3.8.3"
  }
 },
 "nbformat": 4,
 "nbformat_minor": 4
}
